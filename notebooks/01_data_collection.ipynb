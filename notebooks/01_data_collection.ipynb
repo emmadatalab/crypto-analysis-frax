{
 "cells": [
  {
   "cell_type": "code",
   "execution_count": 7,
   "id": "fc753de0-dbd6-4f48-aaa2-8981918a78be",
   "metadata": {},
   "outputs": [],
   "source": [
    "import requests\n",
    "import pandas as pd\n",
    "import os\n",
    "\n",
    "os.makedirs(\"data/raw\", exist_ok=True)"
   ]
  },
  {
   "cell_type": "code",
   "execution_count": 8,
   "id": "059b3a46-c9f6-4a0f-ab43-0b087cd1b0a7",
   "metadata": {},
   "outputs": [],
   "source": [
    "def get_price_history(coin_id, vs_currency=\"usd\", days=\"365\", interval=\"daily\"):\n",
    "    url = f\"https://api.coingecko.com/api/v3/coins/{coin_id}/market_chart\"\n",
    "    params = {\n",
    "        \"vs_currency\": vs_currency,\n",
    "        \"days\": days,\n",
    "        \"interval\": interval\n",
    "    }\n",
    "    response = requests.get(url, params=params)\n",
    "    if response.status_code != 200:\n",
    "        print(f\"Error fetching data for {coin_id}\")\n",
    "        return None\n",
    "    data = response.json()\n",
    "    prices = data[\"prices\"]\n",
    "    df = pd.DataFrame(prices, columns=[\"timestamp\", f\"{coin_id}_price\"])\n",
    "    df[\"date\"] = pd.to_datetime(df[\"timestamp\"], unit=\"ms\").dt.date\n",
    "    df = df.drop(columns=[\"timestamp\"])\n",
    "    return df"
   ]
  },
  {
   "cell_type": "code",
   "execution_count": 9,
   "id": "09f823d9-7b77-418f-8e41-91f35478b3da",
   "metadata": {},
   "outputs": [
    {
     "data": {
      "text/html": [
       "<div>\n",
       "<style scoped>\n",
       "    .dataframe tbody tr th:only-of-type {\n",
       "        vertical-align: middle;\n",
       "    }\n",
       "\n",
       "    .dataframe tbody tr th {\n",
       "        vertical-align: top;\n",
       "    }\n",
       "\n",
       "    .dataframe thead th {\n",
       "        text-align: right;\n",
       "    }\n",
       "</style>\n",
       "<table border=\"1\" class=\"dataframe\">\n",
       "  <thead>\n",
       "    <tr style=\"text-align: right;\">\n",
       "      <th></th>\n",
       "      <th>frax-share_price</th>\n",
       "      <th>date</th>\n",
       "      <th>frax_price</th>\n",
       "    </tr>\n",
       "  </thead>\n",
       "  <tbody>\n",
       "    <tr>\n",
       "      <th>0</th>\n",
       "      <td>1.803753</td>\n",
       "      <td>2024-08-07</td>\n",
       "      <td>0.996601</td>\n",
       "    </tr>\n",
       "    <tr>\n",
       "      <th>1</th>\n",
       "      <td>1.729273</td>\n",
       "      <td>2024-08-08</td>\n",
       "      <td>0.996023</td>\n",
       "    </tr>\n",
       "    <tr>\n",
       "      <th>2</th>\n",
       "      <td>1.918425</td>\n",
       "      <td>2024-08-09</td>\n",
       "      <td>0.995463</td>\n",
       "    </tr>\n",
       "    <tr>\n",
       "      <th>3</th>\n",
       "      <td>1.918014</td>\n",
       "      <td>2024-08-10</td>\n",
       "      <td>0.999430</td>\n",
       "    </tr>\n",
       "    <tr>\n",
       "      <th>4</th>\n",
       "      <td>1.920749</td>\n",
       "      <td>2024-08-11</td>\n",
       "      <td>0.996680</td>\n",
       "    </tr>\n",
       "  </tbody>\n",
       "</table>\n",
       "</div>"
      ],
      "text/plain": [
       "   frax-share_price        date  frax_price\n",
       "0          1.803753  2024-08-07    0.996601\n",
       "1          1.729273  2024-08-08    0.996023\n",
       "2          1.918425  2024-08-09    0.995463\n",
       "3          1.918014  2024-08-10    0.999430\n",
       "4          1.920749  2024-08-11    0.996680"
      ]
     },
     "execution_count": 9,
     "metadata": {},
     "output_type": "execute_result"
    }
   ],
   "source": [
    "fxs_df = get_price_history(\"frax-share\")\n",
    "frax_df = get_price_history(\"frax\")\n",
    "\n",
    "price_df = pd.merge(fxs_df, frax_df, on=\"date\")\n",
    "price_df.head()"
   ]
  },
  {
   "cell_type": "code",
   "execution_count": 10,
   "id": "259fbe6f-aad0-44f0-97d4-87aa69536947",
   "metadata": {},
   "outputs": [
    {
     "name": "stdout",
     "output_type": "stream",
     "text": [
      "Saved.\n"
     ]
    }
   ],
   "source": [
    "price_df = pd.merge(fxs_df, frax_df, on=\"date\")\n",
    "price_df.to_csv(\"data/raw/fxs_frax_price_history.csv\", index=False)\n",
    "print(\"Saved.\")\n"
   ]
  },
  {
   "cell_type": "code",
   "execution_count": 13,
   "id": "3b82d79c-5ffc-426f-b87b-eed1cec5186e",
   "metadata": {},
   "outputs": [
    {
     "name": "stdout",
     "output_type": "stream",
     "text": [
      "TVL data saved.\n"
     ]
    }
   ],
   "source": [
    "def get_frax_tvl():\n",
    "    url = \"https://api.llama.fi/protocol/frax\"\n",
    "    response = requests.get(url)\n",
    "    if response.status_code != 200:\n",
    "        print(\"Failed to fetch TVL data.\")\n",
    "        return None\n",
    "    data = response.json()\n",
    "    tvl_data = data[\"tvl\"]\n",
    "    df = pd.DataFrame(tvl_data)\n",
    "    df[\"date\"] = pd.to_datetime(df[\"date\"], unit=\"s\").dt.date\n",
    "    df = df.rename(columns={\"totalLiquidityUSD\": \"tvl_usd\"})\n",
    "    return df[[\"date\", \"tvl_usd\"]]\n",
    "\n",
    "tvl_df = get_frax_tvl()\n",
    "if tvl_df is not None:\n",
    "    tvl_df.to_csv(\"data/raw/frax_tvl.csv\", index=False)\n",
    "    print(\"TVL data saved.\")\n",
    "else:\n",
    "    print(\"TVL data was not saved.\")"
   ]
  },
  {
   "cell_type": "code",
   "execution_count": null,
   "id": "2b76e02f-642b-4779-9ec6-5b5e624b1eee",
   "metadata": {},
   "outputs": [],
   "source": []
  }
 ],
 "metadata": {
  "kernelspec": {
   "display_name": "Python 3 (ipykernel)",
   "language": "python",
   "name": "python3"
  },
  "language_info": {
   "codemirror_mode": {
    "name": "ipython",
    "version": 3
   },
   "file_extension": ".py",
   "mimetype": "text/x-python",
   "name": "python",
   "nbconvert_exporter": "python",
   "pygments_lexer": "ipython3",
   "version": "3.12.3"
  }
 },
 "nbformat": 4,
 "nbformat_minor": 5
}
